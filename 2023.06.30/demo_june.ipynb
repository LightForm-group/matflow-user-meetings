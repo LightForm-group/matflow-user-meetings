{
 "cells": [
  {
   "cell_type": "code",
   "execution_count": null,
   "metadata": {},
   "outputs": [],
   "source": [
    "import matflow as mf\n",
    "from matplotlib import pyplot as plt"
   ]
  },
  {
   "cell_type": "code",
   "execution_count": null,
   "metadata": {},
   "outputs": [],
   "source": [
    "path = \"path/to/workflow\"\n",
    "wk = mf.Workflow(path)"
   ]
  },
  {
   "cell_type": "code",
   "execution_count": null,
   "metadata": {},
   "outputs": [],
   "source": [
    "# List all tasks in the workflow:\n",
    "wk.tasks.list_attrs()"
   ]
  },
  {
   "cell_type": "code",
   "execution_count": null,
   "metadata": {},
   "outputs": [],
   "source": [
    "wk.show_all_EAR_statuses()"
   ]
  },
  {
   "cell_type": "code",
   "execution_count": null,
   "metadata": {},
   "outputs": [],
   "source": [
    "wk.tasks.simulate_VE_loading_damask.elements[0].outputs.VE_response"
   ]
  },
  {
   "cell_type": "code",
   "execution_count": null,
   "metadata": {},
   "outputs": [],
   "source": [
    "wk.tasks.simulate_VE_loading_damask.outputs.VE_response[0].value"
   ]
  },
  {
   "cell_type": "code",
   "execution_count": null,
   "metadata": {},
   "outputs": [],
   "source": [
    "sim_elem = wk.tasks.simulate_VE_loading_damask.elements[0]\n",
    "stress = sim_elem.outputs.VE_response.value[\"phase_data\"][\"vol_avg_equivalent_stress\"][\"data\"]"
   ]
  },
  {
   "cell_type": "code",
   "execution_count": null,
   "metadata": {},
   "outputs": [],
   "source": [
    "for sim_elem in wk.tasks.simulate_VE_loading_damask.elements[:]:\n",
    "\n",
    "    gen_VE_elem = sim_elem.get_element_dependencies(as_objects=True)[0]\n",
    "    VE_grid_size = gen_VE_elem.inputs.VE_grid_size.value\n",
    "    \n",
    "    stress = sim_elem.outputs.VE_response.value[\"phase_data\"][\"vol_avg_equivalent_stress\"][\"data\"]\n",
    "    strain = sim_elem.outputs.VE_response.value[\"phase_data\"][\"vol_avg_equivalent_strain\"][\"data\"]\n",
    "    \n",
    "    plt.plot(strain[:], stress[:], label=f\"VE_grid_size={VE_grid_size}\")\n",
    "\n",
    "plt.xlabel(\"strain\")\n",
    "plt.xlabel(\"stress\")\n",
    "plt.legend()\n",
    "plt.show()"
   ]
  }
 ],
 "metadata": {
  "kernelspec": {
   "display_name": "matflow-new-0UIlF51U-py3.10",
   "language": "python",
   "name": "python3"
  },
  "language_info": {
   "codemirror_mode": {
    "name": "ipython",
    "version": 3
   },
   "file_extension": ".py",
   "mimetype": "text/x-python",
   "name": "python",
   "nbconvert_exporter": "python",
   "pygments_lexer": "ipython3",
   "version": "3.10.8"
  },
  "orig_nbformat": 4
 },
 "nbformat": 4,
 "nbformat_minor": 2
}
