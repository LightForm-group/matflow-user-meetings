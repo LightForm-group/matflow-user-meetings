{
 "cells": [
  {
   "cell_type": "code",
   "execution_count": null,
   "metadata": {},
   "outputs": [],
   "source": [
    "# An environment with the following packages is required to run this notebook:\n",
    "# pip install \"matflow-new==0.3.0a33\" \"matplotlib\""
   ]
  },
  {
   "cell_type": "code",
   "execution_count": null,
   "metadata": {},
   "outputs": [],
   "source": [
    "import matflow as mf\n",
    "from matplotlib import pyplot as plt\n",
    "\n",
    "wk_path = r\"path/to/workflow.zip\"\n",
    "wk = mf.Workflow(wk_path)"
   ]
  },
  {
   "cell_type": "code",
   "execution_count": null,
   "metadata": {},
   "outputs": [],
   "source": [
    "for sim_elem in wk.tasks.simulate_VE_loading_damask.elements[:]:\n",
    "\n",
    "    gen_VE_elem = sim_elem.get_element_dependencies(as_objects=True)[0]\n",
    "    ori_type = gen_VE_elem.get_parameter_sources()[\"inputs.orientations\"][\"type\"]\n",
    "    VE_grid_size = gen_VE_elem.inputs.VE_grid_size.value\n",
    "    \n",
    "    stress = sim_elem.outputs.VE_response.value[\"phase_data\"][\"vol_avg_equivalent_stress\"][\"data\"]\n",
    "    strain = sim_elem.outputs.VE_response.value[\"phase_data\"][\"vol_avg_equivalent_strain\"][\"data\"]\n",
    "    \n",
    "    plt.plot(strain[:], stress[:], label=f\"ori_type={ori_type}\")\n",
    "\n",
    "plt.xlabel(\"strain\")\n",
    "plt.xlabel(\"stress\")\n",
    "plt.legend()\n",
    "plt.show()"
   ]
  }
 ],
 "metadata": {
  "kernelspec": {
   "display_name": "matflow-new-0UIlF51U-py3.10",
   "language": "python",
   "name": "python3"
  },
  "language_info": {
   "codemirror_mode": {
    "name": "ipython",
    "version": 3
   },
   "file_extension": ".py",
   "mimetype": "text/x-python",
   "name": "python",
   "nbconvert_exporter": "python",
   "pygments_lexer": "ipython3",
   "version": "3.10.8"
  },
  "orig_nbformat": 4
 },
 "nbformat": 4,
 "nbformat_minor": 2
}
