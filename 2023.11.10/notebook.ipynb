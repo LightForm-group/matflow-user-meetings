{
 "cells": [
  {
   "cell_type": "code",
   "execution_count": null,
   "metadata": {},
   "outputs": [],
   "source": [
    "import matflow as mf\n",
    "\n",
    "from formable.tensile_test import TensileTest\n",
    "from formable.levenberg_marquardt import LMFitter\n"
   ]
  },
  {
   "cell_type": "code",
   "execution_count": null,
   "metadata": {},
   "outputs": [],
   "source": [
    "wk = mf.Workflow(\"/path/to/workflow\")\n"
   ]
  },
  {
   "cell_type": "code",
   "execution_count": null,
   "metadata": {},
   "outputs": [],
   "source": [
    "exp_tensile_test_dict = wk.tasks.read_tensile_test_from_CSV.elements[0].outputs.tensile_test.value\n",
    "exp_tensile_test = TensileTest(**exp_tensile_test_dict)\n",
    "exp_tensile_test.show()\n"
   ]
  },
  {
   "cell_type": "code",
   "execution_count": null,
   "metadata": {},
   "outputs": [],
   "source": [
    "lm_fitter_dict = wk.tasks.fit_single_crystal_parameters.elements[0].outputs.levenberg_marquardt_fitter.value\n"
   ]
  },
  {
   "cell_type": "code",
   "execution_count": null,
   "metadata": {},
   "outputs": [],
   "source": [
    "# Load an `LMFitter` object from the element outputs:\n",
    "lm_fitter = LMFitter.from_dict(lm_fitter_dict)\n",
    "lm_fitter.show()\n"
   ]
  }
 ],
 "metadata": {
  "language_info": {
   "name": "python"
  }
 },
 "nbformat": 4,
 "nbformat_minor": 2
}
