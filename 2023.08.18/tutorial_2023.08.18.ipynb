{
 "cells": [
  {
   "cell_type": "markdown",
   "metadata": {},
   "source": [
    "### Prerequisites: install/update MatFlow"
   ]
  },
  {
   "cell_type": "markdown",
   "metadata": {},
   "source": [
    "If you haven't already, create a new conda/virtual environment with the following dependencies:\n",
    "\n",
    "- matflow-new\n",
    "- matplotlib\n",
    "- jupyter\n",
    "\n",
    "We will run this notebook within this environment.\n",
    "\n",
    "If you already have such an environment, update MatFlow to the latest version with the following command. Remember to restart your Jupyter kernel after the installation is complete."
   ]
  },
  {
   "cell_type": "code",
   "execution_count": null,
   "metadata": {},
   "outputs": [],
   "source": [
    "pip install -U matflow-new"
   ]
  },
  {
   "cell_type": "code",
   "execution_count": 1,
   "metadata": {},
   "outputs": [],
   "source": [
    "import matflow as mf"
   ]
  },
  {
   "cell_type": "code",
   "execution_count": 2,
   "metadata": {},
   "outputs": [
    {
     "data": {
      "text/plain": [
       "'0.3.0a46'"
      ]
     },
     "execution_count": 2,
     "metadata": {},
     "output_type": "execute_result"
    }
   ],
   "source": [
    "# use the `version` attribute of the MatFlow app object to check the version\n",
    "mf.version"
   ]
  },
  {
   "cell_type": "markdown",
   "metadata": {},
   "source": [
    "### Exercise 1: reset the config file"
   ]
  },
  {
   "cell_type": "markdown",
   "metadata": {},
   "source": [
    "It is likely that the newest version of MatFlow you have now installed will not be able to validate your existing config file. Ha! So our first job is to **reset the config to its default values**.\n",
    "\n",
    "Run the following command to see if your config is valid: \n",
    "\n",
    "```python\n",
    "print(mf.config)\n",
    "```\n",
    "\n",
    "If Python throws an error, try [searching the documentation how-tos](https://docs.matflow.io/stable/user/how_to.html) to find out how to reset the config."
   ]
  },
  {
   "cell_type": "markdown",
   "metadata": {},
   "source": [
    "#### Part 1: reset the config"
   ]
  },
  {
   "cell_type": "code",
   "execution_count": 3,
   "metadata": {},
   "outputs": [],
   "source": [
    "# your code here (reset the config)\n"
   ]
  },
  {
   "cell_type": "markdown",
   "metadata": {},
   "source": [
    "After resetting the config, you should be able to read config items:"
   ]
  },
  {
   "cell_type": "code",
   "execution_count": 4,
   "metadata": {},
   "outputs": [
    {
     "data": {
      "text/plain": [
       "'LenovoX380Yoga'"
      ]
     },
     "execution_count": 4,
     "metadata": {},
     "output_type": "execute_result"
    }
   ],
   "source": [
    "# this should return the name of your computer:\n"
   ]
  },
  {
   "cell_type": "markdown",
   "metadata": {},
   "source": [
    "#### Part 2: Clear the known-submission file"
   ]
  },
  {
   "cell_type": "markdown",
   "metadata": {},
   "source": [
    "It is possible if you have previously run workflows on this machine that you will need to clear the known-submissions file (if the previous version you used is incompatbile with the current version). Again, using the documentation how-tos, find out how to clear the known-submissions file."
   ]
  },
  {
   "cell_type": "code",
   "execution_count": 5,
   "metadata": {},
   "outputs": [
    {
     "name": "stderr",
     "output_type": "stream",
     "text": [
      "WARNING matflow.submission: clearing the known-submissions file at C:\\Users\\adamj\\AppData\\Local\\matflow\\matflow\\LenovoX380Yoga\\known_submissions.txt\n"
     ]
    }
   ],
   "source": [
    "# your code here (clear known-submissions file)\n"
   ]
  },
  {
   "cell_type": "markdown",
   "metadata": {},
   "source": [
    "### Exercise 2: change the configuration"
   ]
  },
  {
   "cell_type": "markdown",
   "metadata": {},
   "source": [
    "Logging is a useful technique to understand the flow of a program. In Python there are different levels of logging. MatFlow usually hides most of the logging output because it would be distracting, but sometimes it is useful to switch on \"debug\" logging to see what's going on in more detail.\n",
    "\n",
    "We will use this as an example to explore how to change configuration items in MatFlow. The item we are interested in is called `log_console_level`.\n",
    "\n",
    "Remember to use the [documentation](https://docs.matflow.io/stable/index.html) if you get stuck."
   ]
  },
  {
   "cell_type": "markdown",
   "metadata": {},
   "source": [
    "#### Part 1: what is the current value of `log_console_level`?"
   ]
  },
  {
   "cell_type": "code",
   "execution_count": 6,
   "metadata": {},
   "outputs": [
    {
     "name": "stdout",
     "output_type": "stream",
     "text": [
      "None\n"
     ]
    }
   ],
   "source": [
    "# your code here\n"
   ]
  },
  {
   "cell_type": "markdown",
   "metadata": {},
   "source": [
    "#### Part 2: change the value of `log_console_level` to `\"debug\"`"
   ]
  },
  {
   "cell_type": "markdown",
   "metadata": {},
   "source": [
    "When you execute code to change the `log_console_level`, you should immediately see a `DEBUG` log message, which MatFlow emits whenever it changes any configuration item."
   ]
  },
  {
   "cell_type": "code",
   "execution_count": 9,
   "metadata": {},
   "outputs": [
    {
     "data": {
      "text/plain": [
       "'debug'"
      ]
     },
     "execution_count": 9,
     "metadata": {},
     "output_type": "execute_result"
    }
   ],
   "source": [
    "mf.config.log_console_level"
   ]
  },
  {
   "cell_type": "code",
   "execution_count": 7,
   "metadata": {},
   "outputs": [],
   "source": [
    "# your code here\n"
   ]
  },
  {
   "cell_type": "markdown",
   "metadata": {},
   "source": [
    "For another example of `DEBUG` logging, try generating a uniaxial load case, using the `LoadCase.example_uniaxial` method, which is documented [here](https://docs.matflow.io/stable/reference/_autosummary/matflow.param_classes.load.LoadCase.html#matflow.param_classes.load.LoadCase.example_uniaxial).\n",
    "\n",
    "*Hint*: `LoadCase` is a Python class that corresponds to the `load_case` parameter, which is used to parametrise, for example, the boundary conditions in a DAMASK simulation in MatFlow. Parameter classes can be accessed directly from the MatFlow object: `mf.LoadCase`"
   ]
  },
  {
   "cell_type": "code",
   "execution_count": 8,
   "metadata": {},
   "outputs": [
    {
     "data": {
      "text/plain": [
       "LoadCase(steps=[LoadStep(type='uniaxial', num_increments=200, total_time=100, direction='x')])"
      ]
     },
     "execution_count": 8,
     "metadata": {},
     "output_type": "execute_result"
    }
   ],
   "source": [
    "# your code here\n"
   ]
  },
  {
   "cell_type": "markdown",
   "metadata": {},
   "source": [
    "#### Part 3: make the config change permanent"
   ]
  },
  {
   "cell_type": "markdown",
   "metadata": {},
   "source": [
    "The change to the configuration item `log_console_level` is currently temporary, and only exists within the notebook kernel. In otherwords, the config file itself is not modified.\n",
    "\n",
    "Make the change permanent."
   ]
  },
  {
   "cell_type": "code",
   "execution_count": null,
   "metadata": {},
   "outputs": [],
   "source": [
    "# your code here (make your config changes permanent)\n"
   ]
  },
  {
   "cell_type": "markdown",
   "metadata": {},
   "source": [
    "Verify that the `log_console_level` has been updated by:\n",
    "\n",
    "1. Using MatFlow to provide the file path to the config file\n",
    "2. Opening the config file in a text editor and checking the value of `log_console_level`"
   ]
  },
  {
   "cell_type": "code",
   "execution_count": null,
   "metadata": {},
   "outputs": [],
   "source": [
    "# your code here (get the config file path)\n"
   ]
  },
  {
   "cell_type": "markdown",
   "metadata": {},
   "source": [
    "Finally:\n",
    "1. In your text editor, change the value of `log_console_level` back to its default value, which is `warning`, and then save the file.\n",
    "2. Then reload the config file using Python."
   ]
  },
  {
   "cell_type": "code",
   "execution_count": null,
   "metadata": {},
   "outputs": [],
   "source": [
    "# your code here (reload the config)\n"
   ]
  },
  {
   "cell_type": "code",
   "execution_count": null,
   "metadata": {},
   "outputs": [],
   "source": [
    "# check that debug messages are no longer printed by again retrieving a config item:\n",
    "mf.config.log_console_level"
   ]
  },
  {
   "cell_type": "markdown",
   "metadata": {},
   "source": [
    "### Exercise 3: run a \"Hello, world!\" workflow"
   ]
  },
  {
   "cell_type": "markdown",
   "metadata": {},
   "source": [
    "A MatFlow workflow is comprised of one or more tasks. Tasks are parametrised by the user in a workflow template (such as in a workflow template YAML file). However, the particular inputs that MatFlow expects for each task, and the implementation of the task is defined in a **task schema**.\n",
    "\n",
    "In turn, task schemas are comprised of actions, which define the commands to be run by the shell."
   ]
  },
  {
   "cell_type": "markdown",
   "metadata": {},
   "source": [
    "#### Part 1: modify the action definition so it prints \"Hello, World!\""
   ]
  },
  {
   "cell_type": "markdown",
   "metadata": {},
   "source": [
    "If you are using Windows, this should be a *Powershell* command. If you are on MacOS or Linux, this can be a *bash* command."
   ]
  },
  {
   "cell_type": "code",
   "execution_count": null,
   "metadata": {},
   "outputs": [],
   "source": [
    "# your modifications here\n",
    "act = mf.Action(commands=[mf.Command(\"your command here\")])"
   ]
  },
  {
   "cell_type": "markdown",
   "metadata": {},
   "source": [
    "#### Part 2: write the task schema definition, using you new action"
   ]
  },
  {
   "cell_type": "markdown",
   "metadata": {},
   "source": [
    "A new task schema can be generated using the `mf.TaskSchema` class. There are two important parameters that we must pass to the constructor of this class to generate our task schema:\n",
    "\n",
    "1. `objective`\n",
    "2. `actions`\n",
    "\n",
    "Look at the [reference documentation](https://docs.matflow.io/stable/reference/_autosummary/matflow.html) to find out what data types these should be, and then construct a new task schema object called `hello_world`."
   ]
  },
  {
   "cell_type": "code",
   "execution_count": null,
   "metadata": {},
   "outputs": [],
   "source": [
    "# your modifications here\n",
    "# hello_schema = "
   ]
  },
  {
   "cell_type": "markdown",
   "metadata": {},
   "source": [
    "Try using the `.info` property of the new task schema to show information about it. You should see there are currently no inputs or outputs associated with the schema."
   ]
  },
  {
   "cell_type": "code",
   "execution_count": null,
   "metadata": {},
   "outputs": [],
   "source": [
    "# your code here\n"
   ]
  },
  {
   "cell_type": "markdown",
   "metadata": {},
   "source": [
    "#### Part 3: Make a workflow template that uses your new task schema"
   ]
  },
  {
   "cell_type": "markdown",
   "metadata": {},
   "source": [
    "A workflow template represents the parametrisation of a new workflow. You already have experience using workflow templates if you have run the command `matflow go simple_damask.yml`. This command takes a workflow template as its input (in this case in the form of a YAML file `simple_damask.yml`) and then generates a *persistent* workflow from the template. Persistent means the workflow now exists on your computer's hard disk, and it will not disappear when you close the terminal or notebook session. A workflow must be made persistent before it can be submitted.\n",
    "\n",
    "We will now generate a workflow template (and then turn that into a persistent workflow so it can be submitted).\n",
    "\n",
    "Use the `mf.WorkflowTemplate` class to generate a new workflow template. Assign your workflow template to a variable called `wkt`. You should pass two parameters to the class constructor:\n",
    "\n",
    "1. `name`\n",
    "2. `tasks`\n",
    "\n",
    "As before, you can use the [reference documentation](https://docs.matflow.io/stable/reference/_autosummary/matflow.html) to understand what data types these parameters should have.\n",
    "\n",
    "*Hint*: You will need to first generate a `mf.Task` object that uses your `hello_world` task schema. The task object is a \"parametrised\" task schema. In this case, there are no input values to specify, but in general the `mf.Task` object is where we would specify the values of the input parameters that the task schema says it requires."
   ]
  },
  {
   "cell_type": "code",
   "execution_count": null,
   "metadata": {},
   "outputs": [],
   "source": [
    "# your code here\n"
   ]
  },
  {
   "cell_type": "markdown",
   "metadata": {},
   "source": [
    "#### Part 4: Find a way to generate a new *persistent* workflow from your workflow template"
   ]
  },
  {
   "cell_type": "markdown",
   "metadata": {},
   "source": [
    "Search the documentation to find a way to generate a persistent workflow from your workflow template."
   ]
  },
  {
   "cell_type": "code",
   "execution_count": null,
   "metadata": {},
   "outputs": [],
   "source": [
    "# your code here"
   ]
  },
  {
   "cell_type": "markdown",
   "metadata": {},
   "source": [
    "#### Part 5: Generate a persistent workflow again, but using the name `hello_world_simple`\n",
    "\n",
    "You should now have a new folder on your computer (in the same folder as this notebook), which is your new persistent workflow. The folder will be named according to the name you specified for the workflow template, plus a date-time stamp. For example: `hello_world_2023-08-18_101640`.\n",
    "\n",
    "Look in more detail at the documentation for the method you just used to find out how to override the default naming convention for the new workflow. Let's call it `hello_world_simple`. When you know how to do this, re-run the previous notebook cell that generates the workflow template object (`wkt`) first, and then execute your new code to again make a persistent workflow."
   ]
  },
  {
   "cell_type": "code",
   "execution_count": null,
   "metadata": {},
   "outputs": [],
   "source": [
    "# your code here\n"
   ]
  },
  {
   "cell_type": "markdown",
   "metadata": {},
   "source": [
    "You should now have another folder on your computer called `hello_world_simple`."
   ]
  },
  {
   "cell_type": "markdown",
   "metadata": {},
   "source": [
    "#### Part 6: delete the first persistent workflow"
   ]
  },
  {
   "cell_type": "markdown",
   "metadata": {},
   "source": [
    "The first persistent workflow (that named with a date-time stamp in the name, like `hello_world_2023-08-18_101640`) can now be deleted. You could do this by simply deleting the folder, or you can do it by loading the workflow and calling the `delete` method like this:"
   ]
  },
  {
   "cell_type": "code",
   "execution_count": null,
   "metadata": {},
   "outputs": [],
   "source": [
    "# your modifications here:\n",
    "wk_old = mf.Workflow(\"workflow name\")\n",
    "wk_old.delete()\n",
    "del wk_old # delete the variable; the workflow no longer exists on disk!"
   ]
  },
  {
   "cell_type": "markdown",
   "metadata": {},
   "source": [
    "#### Part 7: execute the persistent workflow `hello_world_simple`"
   ]
  },
  {
   "cell_type": "markdown",
   "metadata": {},
   "source": [
    "Firstly let's load the workflow:"
   ]
  },
  {
   "cell_type": "code",
   "execution_count": null,
   "metadata": {},
   "outputs": [],
   "source": [
    "wk = mf.Workflow(\"hello_world_simple\")"
   ]
  },
  {
   "cell_type": "markdown",
   "metadata": {},
   "source": [
    "Now use the `submit` method of the workflow object `wk` to execute the workflow locally"
   ]
  },
  {
   "cell_type": "code",
   "execution_count": null,
   "metadata": {},
   "outputs": [],
   "source": [
    "# your code here\n"
   ]
  },
  {
   "cell_type": "markdown",
   "metadata": {},
   "source": [
    "Look for the \"standard output\" file for the submitted workflow. You should find it here: `hello_world_simple/artifacts/submissions/0/js_0_stdout.log`. In this file you should see `Hello, World` printed."
   ]
  },
  {
   "cell_type": "markdown",
   "metadata": {},
   "source": [
    "### Exercise 4: write a more complicated task schema"
   ]
  },
  {
   "cell_type": "markdown",
   "metadata": {},
   "source": [
    "Our simple `hello_world` workflow uses a very simple task schema that takes no inputs, produces no outputs, and uses a shell command to write to the standard output stream.\n",
    "\n",
    "We will now write a slightly more complicated task schema that executes an arbitrary Python script. Initially, this task schema will also take no inputs and produce no outputs, but it will write a text file."
   ]
  },
  {
   "cell_type": "markdown",
   "metadata": {},
   "source": [
    "#### Part 1: write a Python script that samples a random number and writes it to a new text file"
   ]
  },
  {
   "cell_type": "markdown",
   "metadata": {},
   "source": [
    "Our first job is to write a new Python script (you can call it `generate_random.py`). This Python script should sample a random number from a normal distribution and then write it out to a new text file called `random.txt` in the current working directory. Make sure to include a `if __name__ == \"__main__\"` block, as below."
   ]
  },
  {
   "cell_type": "markdown",
   "metadata": {},
   "source": [
    "You can use this template to get started:\n",
    "\n",
    "```python\n",
    "from pathlib import Path\n",
    "import numpy as np\n",
    "\n",
    "def generate_random():\n",
    "    # your code here\n",
    "    \n",
    "    # sample a single number from a normal distribution:\n",
    "\n",
    "    # write out the number to a text file called `random.txt` in the current working directory:\n",
    "\n",
    "if __name__ == \"__main__\":\n",
    "    generate_random()\n",
    "```"
   ]
  },
  {
   "cell_type": "markdown",
   "metadata": {},
   "source": [
    "#### Part 2: generate a new action that executes this script\n",
    "\n",
    "This new action will be slightly different from the previous \"hello world\" action. We won't pass any `commands`, but instead these three parameters will need to be passed to the `mf.Action` constructor:\n",
    "\n",
    "1. `script`\n",
    "    - This is the full path to your new Python script\n",
    "2. `script_exe` \n",
    "    - This is the environment executable *label* that should be used to execute the script (more on this below)\n",
    "3. `environments`\n",
    "    - This is a list of MatFlow environment in which to execute the action.\n",
    "    - In our case it will be just a single-item list.\n",
    "    - Unlike in the simple \"hello world\" case, in this action we need to make sure Python is available, and so we need to use a named MatFlow environment.\n",
    "    - MatFlow has a built-in environment called `python_env` that we can use.\n",
    "    - Built-in environments can be overridden if required, but in this case the built-in one should be fine."
   ]
  },
  {
   "cell_type": "markdown",
   "metadata": {},
   "source": [
    "##### Part 2.1: examine the available MatFlow environments to find the correct executable label (`script_exe`) to use\n",
    "\n",
    "Each MatFlow environment can be associated with \"executables\". These are labelled commands that tell MatFlow how to invoke a given program. In general, these labels are machine-agnostic and are referenced in the task schemas. However, the command that represents the executable can be different on different machines. \n",
    "\n",
    "For example, if we want to run a DAMASK simulation we need to call the DAMASK grid executable, which is usually something like `DAMASK_grid`. However, it might be called something different on different machines. So we can define a \"damask_grid\" executable in the \"damask\" environment which includes the specific command that should be run when we want to invoke DAMASK.\n",
    "\n",
    "In the cell below, run the command `mf.envs` to list the available MatFlow environments."
   ]
  },
  {
   "cell_type": "code",
   "execution_count": null,
   "metadata": {},
   "outputs": [],
   "source": [
    "# your code here\n"
   ]
  },
  {
   "cell_type": "markdown",
   "metadata": {},
   "source": [
    "By default, most of these environments are actually \"stubs\" that do not define anything. When configuring MatFlow to interact with arbitrary software like DAMASK, we need to overwrite the relevent environment with our own implementation that calls the correct executables on our particular machine.\n",
    "\n",
    "In the cell below run the command `mf.envs.python_env.executables` to list the available executables in the `python_env` MatFlow environment, which we will use for our new action."
   ]
  },
  {
   "cell_type": "code",
   "execution_count": null,
   "metadata": {},
   "outputs": [],
   "source": [
    "# your code here\n"
   ]
  },
  {
   "cell_type": "markdown",
   "metadata": {},
   "source": [
    "You should see one executable with a `label` argument. This is the string label that we should use in our new action's `script_exe` parameter."
   ]
  },
  {
   "cell_type": "markdown",
   "metadata": {},
   "source": [
    "##### Part 2.2 Generate the action"
   ]
  },
  {
   "cell_type": "code",
   "execution_count": null,
   "metadata": {},
   "outputs": [],
   "source": [
    "# your modifications here\n",
    "\n",
    "script_path = # ???\n",
    "\n",
    "script_exe = # ???\n",
    "\n",
    "act = mf.Action(\n",
    "    script=script_path,\n",
    "    script_exe=script_exe,\n",
    "    environments=[mf.ActionEnvironment(environment=mf.envs.python_env)]\n",
    ")"
   ]
  },
  {
   "cell_type": "markdown",
   "metadata": {},
   "source": [
    "#### Part 3: Generate a new task schema that uses the new action\n",
    "\n",
    "Give this task schema an objective called `\"generate_random\"`, and assign it to a Python variable called `generate_random` as well."
   ]
  },
  {
   "cell_type": "code",
   "execution_count": null,
   "metadata": {},
   "outputs": [],
   "source": [
    "# your code here\n"
   ]
  },
  {
   "cell_type": "markdown",
   "metadata": {},
   "source": [
    "#### Part 4: Generate a persistent workflow using the `generate_random` task schema"
   ]
  },
  {
   "cell_type": "markdown",
   "metadata": {},
   "source": [
    "You should now have a `TaskSchema` object called `generate_random`. We could generate a workflow template as before and then use that to generate a workflow. However, there is also a way to generate a persistent workflow without the intermediate step of generating the workflow template object.\n",
    "\n",
    "Use the method `mf.Workflow.from_template_data` to generate a persistent workflow. You will need to pass two parameters to the constructor:\n",
    "\n",
    "1. `template_name`: this can be \"generate_random\".\n",
    "2. `tasks`: this is a list of `mf.Task` objects (in this case it will be only one task)."
   ]
  },
  {
   "cell_type": "code",
   "execution_count": null,
   "metadata": {},
   "outputs": [],
   "source": [
    "# your code here\n"
   ]
  },
  {
   "cell_type": "markdown",
   "metadata": {},
   "source": [
    "#### Part 4: Submit the new persistent workflow and tell MatFlow to wait for it to finish\n",
    "\n",
    "Submit you new workflow, but find a parameter that you can pass to the `Workflow.submit` method that makes MatFlow wait for the workflow to comlete before returning.\n",
    "\n",
    "*Hint*: you could use the help functionality of ipython to look at the signature if the `Workflow.submit` command, which will tell you what arguments can be passed to the function: in a new cell try running: `wk.submit?` where `wk` is the varaible that points to your persistent workflow. "
   ]
  },
  {
   "cell_type": "code",
   "execution_count": null,
   "metadata": {},
   "outputs": [],
   "source": [
    "# your code here (inspect the submit command arguments)\n"
   ]
  },
  {
   "cell_type": "code",
   "execution_count": null,
   "metadata": {},
   "outputs": [],
   "source": [
    "# your code here (submit the workflow)\n"
   ]
  },
  {
   "cell_type": "markdown",
   "metadata": {},
   "source": [
    "#### Part 5: check the results\n",
    "\n",
    "Navigate to the execution directory within the workflow:\n",
    "\n",
    "`WORKFLOW_DIRECTORY/execute/task_0_generate_random/e_0/r_0`\n",
    "\n",
    "You should fine a file called `random.txt`, which was generated by your Python script; it should contain a single number."
   ]
  }
 ],
 "metadata": {
  "kernelspec": {
   "display_name": "hpcflow-new2-gxKrizOt-py3.11",
   "language": "python",
   "name": "python3"
  },
  "language_info": {
   "codemirror_mode": {
    "name": "ipython",
    "version": 3
   },
   "file_extension": ".py",
   "mimetype": "text/x-python",
   "name": "python",
   "nbconvert_exporter": "python",
   "pygments_lexer": "ipython3",
   "version": "3.10.8"
  },
  "orig_nbformat": 4
 },
 "nbformat": 4,
 "nbformat_minor": 2
}
