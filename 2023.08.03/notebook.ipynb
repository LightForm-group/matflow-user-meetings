{
 "cells": [
  {
   "cell_type": "code",
   "execution_count": null,
   "metadata": {},
   "outputs": [],
   "source": [
    "import matflow as mf\n",
    "from formable.load_response import LoadResponse, LoadResponseSet"
   ]
  },
  {
   "cell_type": "code",
   "execution_count": null,
   "metadata": {},
   "outputs": [],
   "source": [
    "wk = mf.Workflow(\"path/to/fit_yield_funcs\")"
   ]
  },
  {
   "cell_type": "code",
   "execution_count": null,
   "metadata": {},
   "outputs": [],
   "source": [
    "all_load_responses = [\n",
    "    LoadResponseSet.from_dict(i.outputs.fitted_yield_functions.value)\n",
    "    for i in wk.tasks.fit_yield_function.elements[:]\n",
    "]\n",
    "for i in all_load_responses:\n",
    "    print(i.fitted_yield_functions)"
   ]
  },
  {
   "cell_type": "code",
   "execution_count": null,
   "metadata": {},
   "outputs": [],
   "source": [
    "wk.tasks.fit_yield_function.add_elements(\n",
    "    inputs=[\n",
    "        mf.InputValue(\"yield_function_name\", \"VonMises\"),\n",
    "        mf.InputValue(\"yield_point_criteria\", {\n",
    "            \"threshold\": \"equivalent_plastic_strain\",\n",
    "            \"values\": [2e-3, 1e-2],\n",
    "        }),\n",
    "    ]\n",
    ")"
   ]
  }
 ],
 "metadata": {
  "language_info": {
   "name": "python"
  },
  "orig_nbformat": 4
 },
 "nbformat": 4,
 "nbformat_minor": 2
}
